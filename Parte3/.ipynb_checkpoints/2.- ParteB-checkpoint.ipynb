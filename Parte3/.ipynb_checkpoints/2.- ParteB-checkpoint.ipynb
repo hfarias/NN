{
 "cells": [
  {
   "cell_type": "markdown",
   "metadata": {
    "deletable": true,
    "editable": true
   },
   "source": [
    "## Prediccion del Precio de una Casa"
   ]
  },
  {
   "cell_type": "code",
   "execution_count": 27,
   "metadata": {
    "collapsed": false,
    "deletable": true,
    "editable": true
   },
   "outputs": [],
   "source": [
    "import pandas as pd\n",
    "from sklearn.cross_validation import train_test_split\n",
    "#from sklearn.preprocessing import StandardScaler\n",
    "from sklearn import preprocessing"
   ]
  },
  {
   "cell_type": "code",
   "execution_count": 28,
   "metadata": {
    "collapsed": false,
    "deletable": true,
    "editable": true
   },
   "outputs": [],
   "source": [
    "_file = '//Users/hfarias/Doctorado/1-2017/NN/Parte3/house/housing.csv'"
   ]
  },
  {
   "cell_type": "code",
   "execution_count": 29,
   "metadata": {
    "collapsed": false,
    "deletable": true,
    "editable": true
   },
   "outputs": [],
   "source": [
    "df = pd.read_csv(_file, delim_whitespace=True ,header=None, names=['CRIM', 'ZN', 'INDUS', 'CHAS', 'NOX','RM', 'AGE','DIS','RAD','TAX','PTRATIO','B','LSTAT','MEDV'])"
   ]
  },
  {
   "cell_type": "code",
   "execution_count": 30,
   "metadata": {
    "collapsed": false,
    "deletable": true,
    "editable": true
   },
   "outputs": [
    {
     "data": {
      "text/html": [
       "<div>\n",
       "<table border=\"1\" class=\"dataframe\">\n",
       "  <thead>\n",
       "    <tr style=\"text-align: right;\">\n",
       "      <th></th>\n",
       "      <th>CRIM</th>\n",
       "      <th>ZN</th>\n",
       "      <th>INDUS</th>\n",
       "      <th>CHAS</th>\n",
       "      <th>NOX</th>\n",
       "      <th>RM</th>\n",
       "      <th>AGE</th>\n",
       "      <th>DIS</th>\n",
       "      <th>RAD</th>\n",
       "      <th>TAX</th>\n",
       "      <th>PTRATIO</th>\n",
       "      <th>B</th>\n",
       "      <th>LSTAT</th>\n",
       "      <th>MEDV</th>\n",
       "    </tr>\n",
       "  </thead>\n",
       "  <tbody>\n",
       "    <tr>\n",
       "      <th>0</th>\n",
       "      <td>0.00632</td>\n",
       "      <td>18.0</td>\n",
       "      <td>2.31</td>\n",
       "      <td>0</td>\n",
       "      <td>0.538</td>\n",
       "      <td>6.575</td>\n",
       "      <td>65.2</td>\n",
       "      <td>4.0900</td>\n",
       "      <td>1</td>\n",
       "      <td>296.0</td>\n",
       "      <td>15.3</td>\n",
       "      <td>396.9</td>\n",
       "      <td>4.98</td>\n",
       "      <td>24.0</td>\n",
       "    </tr>\n",
       "    <tr>\n",
       "      <th>1</th>\n",
       "      <td>0.02731</td>\n",
       "      <td>0.0</td>\n",
       "      <td>7.07</td>\n",
       "      <td>0</td>\n",
       "      <td>0.469</td>\n",
       "      <td>6.421</td>\n",
       "      <td>78.9</td>\n",
       "      <td>4.9671</td>\n",
       "      <td>2</td>\n",
       "      <td>242.0</td>\n",
       "      <td>17.8</td>\n",
       "      <td>396.9</td>\n",
       "      <td>9.14</td>\n",
       "      <td>21.6</td>\n",
       "    </tr>\n",
       "  </tbody>\n",
       "</table>\n",
       "</div>"
      ],
      "text/plain": [
       "      CRIM    ZN  INDUS  CHAS    NOX     RM   AGE     DIS  RAD    TAX  \\\n",
       "0  0.00632  18.0   2.31     0  0.538  6.575  65.2  4.0900    1  296.0   \n",
       "1  0.02731   0.0   7.07     0  0.469  6.421  78.9  4.9671    2  242.0   \n",
       "\n",
       "   PTRATIO      B  LSTAT  MEDV  \n",
       "0     15.3  396.9   4.98  24.0  \n",
       "1     17.8  396.9   9.14  21.6  "
      ]
     },
     "execution_count": 30,
     "metadata": {},
     "output_type": "execute_result"
    }
   ],
   "source": [
    "df.head(2)"
   ]
  },
  {
   "cell_type": "markdown",
   "metadata": {
    "collapsed": true,
    "deletable": true,
    "editable": true
   },
   "source": [
    "(b) Normalice los datos antes de trabajar. Determine la conveniencia de realizar esta operacion.\n",
    "\n",
    "> El dataset esta compuesto por 14 columnas de las cuales 12 son del tipo **float64** y 2 del tipo **int64** por lo que es recomendable normalizar estos datos porque si nos damos cuenta los datos estan en escalas muy diferentes que al momento de entrenar la red tendran impacto directo (mayor responsabilidad en la salida) que no esta necesariamente ligado a su aporte real en terminos de clasificación."
   ]
  },
  {
   "cell_type": "code",
   "execution_count": 31,
   "metadata": {
    "collapsed": true,
    "deletable": true,
    "editable": true
   },
   "outputs": [],
   "source": [
    "def normalizar(_dataset,_centrando,_escalado):\n",
    "    df_train, df_test= train_test_split(_dataset, test_size=0.25, random_state=0)\n",
    "        \n",
    "    scaler = preprocessing.StandardScaler(with_mean=_centrando, with_std=_centrando)\n",
    "    scaler = scaler.fit(df_train)\n",
    "    \n",
    "    XtrN = pd.DataFrame(scaler.transform(df_train),columns=df_train.columns)    \n",
    "    XteN = pd.DataFrame(scaler.transform(df_test),columns=df_test.columns)  \n",
    "    \n",
    "    print \"Dimenciones dataset = \"+str(_dataset.shape)\n",
    "    print \"Tamaño dataset de entrenamiento  = \"+str(len(XtrN.index))\n",
    "    print \"Tamaño dataset de testing  = \"+str(len(XteN.index))\n",
    "    return XtrN,XteN                                              "
   ]
  },
  {
   "cell_type": "code",
   "execution_count": 36,
   "metadata": {
    "collapsed": true,
    "deletable": true,
    "editable": true
   },
   "outputs": [],
   "source": [
    "_centrando = True\n",
    "_escalado  = True"
   ]
  },
  {
   "cell_type": "code",
   "execution_count": 37,
   "metadata": {
    "collapsed": false,
    "deletable": true,
    "editable": true
   },
   "outputs": [
    {
     "name": "stdout",
     "output_type": "stream",
     "text": [
      "Dimenciones dataset = (506, 14)\n",
      "Tamaño dataset de entrenamiento  = 379\n",
      "Tamaño dataset de testing  = 127\n"
     ]
    }
   ],
   "source": [
    "XtrN,XteN = normalizar(df,_centrando,_escalado)"
   ]
  },
  {
   "cell_type": "code",
   "execution_count": 38,
   "metadata": {
    "collapsed": false,
    "deletable": true,
    "editable": true
   },
   "outputs": [],
   "source": [
    "YtrN = XtrN.pop('MEDV')\n",
    "YteN = XteN.pop('MEDV')"
   ]
  },
  {
   "cell_type": "code",
   "execution_count": 39,
   "metadata": {
    "collapsed": false,
    "deletable": true,
    "editable": true
   },
   "outputs": [
    {
     "data": {
      "text/html": [
       "<div>\n",
       "<table border=\"1\" class=\"dataframe\">\n",
       "  <thead>\n",
       "    <tr style=\"text-align: right;\">\n",
       "      <th></th>\n",
       "      <th>CRIM</th>\n",
       "      <th>ZN</th>\n",
       "      <th>INDUS</th>\n",
       "      <th>CHAS</th>\n",
       "      <th>NOX</th>\n",
       "      <th>RM</th>\n",
       "      <th>AGE</th>\n",
       "      <th>DIS</th>\n",
       "      <th>RAD</th>\n",
       "      <th>TAX</th>\n",
       "      <th>PTRATIO</th>\n",
       "      <th>B</th>\n",
       "      <th>LSTAT</th>\n",
       "    </tr>\n",
       "  </thead>\n",
       "  <tbody>\n",
       "    <tr>\n",
       "      <th>0</th>\n",
       "      <td>-0.390600</td>\n",
       "      <td>0.426370</td>\n",
       "      <td>-0.744914</td>\n",
       "      <td>-0.265747</td>\n",
       "      <td>-1.078733</td>\n",
       "      <td>-1.021961</td>\n",
       "      <td>0.051970</td>\n",
       "      <td>1.994571</td>\n",
       "      <td>-0.278328</td>\n",
       "      <td>-0.427994</td>\n",
       "      <td>0.278789</td>\n",
       "      <td>0.340496</td>\n",
       "      <td>0.822121</td>\n",
       "    </tr>\n",
       "    <tr>\n",
       "      <th>1</th>\n",
       "      <td>-0.401276</td>\n",
       "      <td>0.552534</td>\n",
       "      <td>-0.849018</td>\n",
       "      <td>-0.265747</td>\n",
       "      <td>-0.889119</td>\n",
       "      <td>-0.556963</td>\n",
       "      <td>-0.764286</td>\n",
       "      <td>1.505651</td>\n",
       "      <td>-0.162916</td>\n",
       "      <td>-0.696853</td>\n",
       "      <td>0.552877</td>\n",
       "      <td>0.427749</td>\n",
       "      <td>-0.462417</td>\n",
       "    </tr>\n",
       "  </tbody>\n",
       "</table>\n",
       "</div>"
      ],
      "text/plain": [
       "       CRIM        ZN     INDUS      CHAS       NOX        RM       AGE  \\\n",
       "0 -0.390600  0.426370 -0.744914 -0.265747 -1.078733 -1.021961  0.051970   \n",
       "1 -0.401276  0.552534 -0.849018 -0.265747 -0.889119 -0.556963 -0.764286   \n",
       "\n",
       "        DIS       RAD       TAX   PTRATIO         B     LSTAT  \n",
       "0  1.994571 -0.278328 -0.427994  0.278789  0.340496  0.822121  \n",
       "1  1.505651 -0.162916 -0.696853  0.552877  0.427749 -0.462417  "
      ]
     },
     "execution_count": 39,
     "metadata": {},
     "output_type": "execute_result"
    }
   ],
   "source": [
    "XtrN.head(2)"
   ]
  },
  {
   "cell_type": "markdown",
   "metadata": {
    "deletable": true,
    "editable": true
   },
   "source": [
    "> La ultima columna es la media del valor de la propiedad, y la meta de la red es poder predecir este valor con las entradas anteriores."
   ]
  },
  {
   "cell_type": "code",
   "execution_count": null,
   "metadata": {
    "collapsed": true
   },
   "outputs": [],
   "source": []
  }
 ],
 "metadata": {
  "anaconda-cloud": {},
  "kernelspec": {
   "display_name": "Python [default]",
   "language": "python",
   "name": "python2"
  },
  "language_info": {
   "codemirror_mode": {
    "name": "ipython",
    "version": 2
   },
   "file_extension": ".py",
   "mimetype": "text/x-python",
   "name": "python",
   "nbconvert_exporter": "python",
   "pygments_lexer": "ipython2",
   "version": "2.7.12"
  }
 },
 "nbformat": 4,
 "nbformat_minor": 2
}
