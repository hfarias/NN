{
 "cells": [
  {
   "cell_type": "markdown",
   "metadata": {
    "deletable": true,
    "editable": true
   },
   "source": [
    "## Prediccion del Precio de una Casa"
   ]
  },
  {
   "cell_type": "code",
   "execution_count": 2,
   "metadata": {
    "collapsed": false,
    "deletable": true,
    "editable": true
   },
   "outputs": [],
   "source": [
    "import numpy as np\n",
    "import pandas as pd\n",
    "import matplotlib.pyplot as plt"
   ]
  },
  {
   "cell_type": "code",
   "execution_count": 4,
   "metadata": {
    "collapsed": false,
    "deletable": true,
    "editable": true
   },
   "outputs": [],
   "source": [
    "from sklearn import cross_validation\n",
    "from sklearn.cross_validation import train_test_split\n",
    "from sklearn import preprocessing"
   ]
  },
  {
   "cell_type": "code",
   "execution_count": 5,
   "metadata": {
    "collapsed": false,
    "deletable": true,
    "editable": true
   },
   "outputs": [
    {
     "name": "stderr",
     "output_type": "stream",
     "text": [
      "Using TensorFlow backend.\n"
     ]
    }
   ],
   "source": [
    "from keras.models import Sequential\n",
    "from keras.layers.core import Dense, Activation\n",
    "from keras.optimizers import SGD"
   ]
  },
  {
   "cell_type": "code",
   "execution_count": 6,
   "metadata": {
    "collapsed": true,
    "deletable": true,
    "editable": true
   },
   "outputs": [],
   "source": [
    "from ipywidgets import interact"
   ]
  },
  {
   "cell_type": "code",
   "execution_count": 7,
   "metadata": {
    "collapsed": true,
    "deletable": true,
    "editable": true
   },
   "outputs": [],
   "source": [
    "%matplotlib inline"
   ]
  },
  {
   "cell_type": "code",
   "execution_count": 8,
   "metadata": {
    "collapsed": false,
    "deletable": true,
    "editable": true
   },
   "outputs": [],
   "source": [
    "_file = '//Users/hfarias/Doctorado/1-2017/NN/Parte3/house/housing.csv'"
   ]
  },
  {
   "cell_type": "code",
   "execution_count": 9,
   "metadata": {
    "collapsed": true,
    "deletable": true,
    "editable": true
   },
   "outputs": [],
   "source": [
    "def leer(_file):\n",
    "    df = pd.read_csv(_file, delim_whitespace=True ,header=None, names=['CRIM', 'ZN', 'INDUS', 'CHAS', 'NOX','RM', 'AGE','DIS','RAD','TAX','PTRATIO','B','LSTAT','MEDV'])\n",
    "    return df "
   ]
  },
  {
   "cell_type": "code",
   "execution_count": 10,
   "metadata": {
    "collapsed": true,
    "deletable": true,
    "editable": true
   },
   "outputs": [],
   "source": [
    "def normalizar(_dataset):\n",
    "    #scaler = preprocessing.StandardScaler()\n",
    "    scaler = preprocessing.MinMaxScaler()\n",
    "    scaler = scaler.fit(_dataset)\n",
    "    df_normalizado = pd.DataFrame(scaler.transform(_dataset),columns=_dataset.columns)\n",
    "    df_train,df_test = train_test_split(df_normalizado,test_size=0.25, random_state=0)\n",
    "    #print \"Dimenciones dataset = \"+str(df_normalizado.shape)\n",
    "    #print \"Tamaño dataset de entrenamiento  = \"+str(len(df_train.index))\n",
    "    #print \"Tamaño dataset de testing  = \"+str(len(df_test.index))\n",
    "    return df_train,df_test "
   ]
  },
  {
   "cell_type": "markdown",
   "metadata": {
    "deletable": true,
    "editable": true
   },
   "source": [
    "> Muestre en un grafico el error cuadratico (MSE) vs numero de epochs de entrenamiento, para una red feedforward de 3 capas, con 200 unidades ocultas y funcion de activacion sigmoidal. Entrene la red usando gradiente descendente estocastico con tasa de aprendizaje (learning rate) 0.01 y 300 epochs de entrenamiento, en el conjunto de entrenamiento y de test. Comente. Si observara divergencia durante el entrenamiento, determine si esto ocurre para cada repeticion del experimento."
   ]
  },
  {
   "cell_type": "code",
   "execution_count": 11,
   "metadata": {
    "collapsed": false,
    "deletable": true,
    "editable": true
   },
   "outputs": [],
   "source": [
    "def modelo(_numeroCapas,_numeroNeuronasOcultas,_learningRate,_epochs,_activation,_X_train_scaled,_X_test_scaled,_y_train_scaled,_y_test_scaled):\n",
    "    model = Sequential()\n",
    "    #model.add(Dense(_numeroNeuronasOcultas, input_dim=_X_train_scaled.shape[1], init='uniform'))\n",
    "    model.add(Dense(_numeroNeuronasOcultas, input_dim=_X_train_scaled.shape[1], kernel_initializer='uniform'))\n",
    "    model.add(Activation(_activation))\n",
    "    #model.add(Dense(1, init='uniform'))\n",
    "    model.add(Dense(1, kernel_initializer='uniform'))\n",
    "    model.add(Activation('linear'))\n",
    "    sgd = SGD(lr=_learningRate)\n",
    "    model.compile(optimizer=sgd,loss='mean_squared_error')\n",
    "    hist = model.fit(_X_train_scaled.as_matrix(), _y_train_scaled.as_matrix(), epochs=_epochs,\n",
    "                 verbose=0, validation_data=(_X_test_scaled.as_matrix(), _y_test_scaled.as_matrix()))\n",
    "    return hist"
   ]
  },
  {
   "cell_type": "code",
   "execution_count": 12,
   "metadata": {
    "collapsed": true,
    "deletable": true,
    "editable": true
   },
   "outputs": [],
   "source": [
    "def learRate(n_lr):\n",
    "    lear_rate = np.linspace(0,1,n_lr)\n",
    "    return lear_rate"
   ]
  },
  {
   "cell_type": "markdown",
   "metadata": {
    "deletable": true,
    "editable": true
   },
   "source": [
    "### Parametros"
   ]
  },
  {
   "cell_type": "code",
   "execution_count": 13,
   "metadata": {
    "collapsed": false,
    "deletable": true,
    "editable": true
   },
   "outputs": [],
   "source": [
    "_numeroCapas           = 3\n",
    "_numeroNeuronasOcultas = 200\n",
    "#_learningRate          = 0.01\n",
    "_learningRate          = learRate(20)\n",
    "_epochs                = 300\n",
    "_activation            = ['sigmoid','relu']"
   ]
  },
  {
   "cell_type": "markdown",
   "metadata": {
    "deletable": true,
    "editable": true
   },
   "source": [
    ">Entrene los modelos considerados en c) y d) usando progressive decay Compare y comente."
   ]
  },
  {
   "cell_type": "code",
   "execution_count": 14,
   "metadata": {
    "collapsed": true,
    "deletable": true,
    "editable": true
   },
   "outputs": [],
   "source": [
    "n_decay = 10\n",
    "lear_decay = np.logspace(-6,0,n_decay)\n",
    "sgd = SGD(lr=0.2, decay=1e-6)\n",
    "_decay=1e-6"
   ]
  },
  {
   "cell_type": "code",
   "execution_count": 15,
   "metadata": {
    "collapsed": false,
    "deletable": true,
    "editable": true
   },
   "outputs": [
    {
     "data": {
      "application/vnd.jupyter.widget-view+json": {
       "model_id": "52687711fb874767a4456b153304e353"
      }
     },
     "metadata": {},
     "output_type": "display_data"
    },
    {
     "data": {
      "text/plain": [
       "<function __main__.graficar>"
      ]
     },
     "execution_count": 15,
     "metadata": {},
     "output_type": "execute_result"
    }
   ],
   "source": [
    "def graficar(_file=_file,_numeroCapas=_numeroCapas ,_numeroNeuronasOcultas=_numeroNeuronasOcultas,_learningRate=_learningRate,_epoch=_epochs,_activation=_activation,_decay=_decay):\n",
    "    df = leer(_file)\n",
    "    X_train_scaled,X_test_scaled = normalizar(df)\n",
    "    y_train_scaled = X_train_scaled.pop('MEDV')\n",
    "    y_test_scaled = X_test_scaled.pop('MEDV')\n",
    "    historial = modelo(_numeroCapas,_numeroNeuronasOcultas,_learningRate,_epochs,_activation,X_train_scaled,X_test_scaled,y_train_scaled,y_test_scaled)\n",
    "    plt.plot(historial.history['loss'])\n",
    "    plt.plot(historial.history['val_loss'])\n",
    "    plt.title('model loss')\n",
    "    plt.ylabel('mean_squared_error')\n",
    "    plt.xlabel('epoch')\n",
    "    plt.legend(['train', 'test'], loc='upper left')\n",
    "    plt.show()\n",
    "interact(graficar)"
   ]
  },
  {
   "cell_type": "code",
   "execution_count": null,
   "metadata": {
    "collapsed": true,
    "deletable": true,
    "editable": true
   },
   "outputs": [],
   "source": []
  }
 ],
 "metadata": {
  "anaconda-cloud": {},
  "kernelspec": {
   "display_name": "Python [default]",
   "language": "python",
   "name": "python2"
  },
  "language_info": {
   "codemirror_mode": {
    "name": "ipython",
    "version": 2
   },
   "file_extension": ".py",
   "mimetype": "text/x-python",
   "name": "python",
   "nbconvert_exporter": "python",
   "pygments_lexer": "ipython2",
   "version": "2.7.12"
  }
 },
 "nbformat": 4,
 "nbformat_minor": 2
}
