{
 "cells": [
  {
   "cell_type": "code",
   "execution_count": 20,
   "metadata": {
    "collapsed": false,
    "deletable": true,
    "editable": true
   },
   "outputs": [],
   "source": [
    "import pandas as pd\n",
    "import numpy as np\n",
    "from sklearn.preprocessing import StandardScaler\n",
    "import matplotlib.pyplot as plt\n",
    "from sklearn.cross_validation import train_test_split\n",
    "from sklearn import preprocessing"
   ]
  },
  {
   "cell_type": "code",
   "execution_count": 21,
   "metadata": {
    "collapsed": false
   },
   "outputs": [
    {
     "name": "stdout",
     "output_type": "stream",
     "text": [
      "1.- ParteDatos.ipynb   Feedforward.ipynb      \u001b[1m\u001b[36mfoto\u001b[m\u001b[m/\r\n",
      "3. ParteModelo.ipynb   Presntacion.ipynb      seeds_dataset.txt\r\n",
      "Backpropagation.ipynb  Untitled.ipynb\r\n"
     ]
    }
   ],
   "source": [
    "ls"
   ]
  },
  {
   "cell_type": "code",
   "execution_count": 22,
   "metadata": {
    "collapsed": true,
    "deletable": true,
    "editable": true
   },
   "outputs": [],
   "source": [
    "%matplotlib inline\n",
    "\n",
    "_file = 'seeds_dataset.txt'"
   ]
  },
  {
   "cell_type": "code",
   "execution_count": 23,
   "metadata": {
    "collapsed": false,
    "deletable": true,
    "editable": true
   },
   "outputs": [
    {
     "data": {
      "text/html": [
       "<div>\n",
       "<table border=\"1\" class=\"dataframe\">\n",
       "  <thead>\n",
       "    <tr style=\"text-align: right;\">\n",
       "      <th></th>\n",
       "      <th>Area</th>\n",
       "      <th>Perimeter</th>\n",
       "      <th>Compactness</th>\n",
       "      <th>length_of_kernel</th>\n",
       "      <th>width_of_kernel</th>\n",
       "      <th>Asym_coeff</th>\n",
       "      <th>length_of_groove</th>\n",
       "      <th>class</th>\n",
       "    </tr>\n",
       "  </thead>\n",
       "  <tbody>\n",
       "    <tr>\n",
       "      <th>0</th>\n",
       "      <td>15.26</td>\n",
       "      <td>14.84</td>\n",
       "      <td>0.8710</td>\n",
       "      <td>5.763</td>\n",
       "      <td>3.312</td>\n",
       "      <td>2.221</td>\n",
       "      <td>5.220</td>\n",
       "      <td>1</td>\n",
       "    </tr>\n",
       "    <tr>\n",
       "      <th>1</th>\n",
       "      <td>14.88</td>\n",
       "      <td>14.57</td>\n",
       "      <td>0.8811</td>\n",
       "      <td>5.554</td>\n",
       "      <td>3.333</td>\n",
       "      <td>1.018</td>\n",
       "      <td>4.956</td>\n",
       "      <td>1</td>\n",
       "    </tr>\n",
       "  </tbody>\n",
       "</table>\n",
       "</div>"
      ],
      "text/plain": [
       "    Area  Perimeter  Compactness  length_of_kernel  width_of_kernel  \\\n",
       "0  15.26      14.84       0.8710             5.763            3.312   \n",
       "1  14.88      14.57       0.8811             5.554            3.333   \n",
       "\n",
       "   Asym_coeff  length_of_groove  class  \n",
       "0       2.221             5.220      1  \n",
       "1       1.018             4.956      1  "
      ]
     },
     "execution_count": 23,
     "metadata": {},
     "output_type": "execute_result"
    }
   ],
   "source": [
    "df = pd.read_csv(_file,sep='\\s+',header = None, names = ['Area','Perimeter','Compactness','length_of_kernel', 'width_of_kernel','Asym_coeff','length_of_groove','class'])\n",
    "df.head(2)"
   ]
  },
  {
   "cell_type": "code",
   "execution_count": 54,
   "metadata": {
    "collapsed": true,
    "deletable": true,
    "editable": true
   },
   "outputs": [],
   "source": [
    "def normalizar(_dataset,_centrando,_escalado):\n",
    "    \n",
    "    df_train, df_test= train_test_split(_dataset, test_size=0.25, random_state=0)\n",
    "        \n",
    "    scaler = preprocessing.StandardScaler(with_mean=_centrando, with_std=_centrando)\n",
    "    scaler = scaler.fit(df_train)\n",
    "    \n",
    "    XtrN = pd.DataFrame(scaler.transform(df_train),columns=df_train.columns)    \n",
    "    XteN = pd.DataFrame(scaler.transform(df_test),columns=df_test.columns)  \n",
    "    \n",
    "    YtrN = df_test.pop('class')\n",
    "    print \"Dimenciones dataset = \"+str(_dataset.shape)\n",
    "    print \"Tamaño dataset de entrenamiento  = \"+str(len(XtrN.shape))\n",
    "    print \"Tamaño dataset de testing  = \"+str(len(XteN.index))\n",
    "    return XtrN,XteN,YtrN"
   ]
  },
  {
   "cell_type": "code",
   "execution_count": 55,
   "metadata": {
    "collapsed": true,
    "deletable": true,
    "editable": true
   },
   "outputs": [],
   "source": [
    "_centrando = True\n",
    "_escalado  = True"
   ]
  },
  {
   "cell_type": "code",
   "execution_count": 56,
   "metadata": {
    "collapsed": false,
    "deletable": true,
    "editable": true
   },
   "outputs": [
    {
     "name": "stdout",
     "output_type": "stream",
     "text": [
      "Dimenciones dataset = (210, 8)\n",
      "Tamaño dataset de entrenamiento  = 2\n",
      "Tamaño dataset de testing  = 53\n"
     ]
    }
   ],
   "source": [
    "XtrN,XteN,YtrN  = normalizar(df,_centrando,_escalado)"
   ]
  },
  {
   "cell_type": "code",
   "execution_count": 57,
   "metadata": {
    "collapsed": false
   },
   "outputs": [
    {
     "data": {
      "text/plain": [
       "pandas.core.series.Series"
      ]
     },
     "execution_count": 57,
     "metadata": {},
     "output_type": "execute_result"
    }
   ],
   "source": [
    "type(YtrN)"
   ]
  },
  {
   "cell_type": "code",
   "execution_count": 19,
   "metadata": {
    "collapsed": false,
    "deletable": true,
    "editable": true
   },
   "outputs": [
    {
     "data": {
      "text/html": [
       "<div>\n",
       "<table border=\"1\" class=\"dataframe\">\n",
       "  <thead>\n",
       "    <tr style=\"text-align: right;\">\n",
       "      <th></th>\n",
       "      <th>Area</th>\n",
       "      <th>Perimeter</th>\n",
       "      <th>Compactness</th>\n",
       "      <th>length_of_kernel</th>\n",
       "      <th>width_of_kernel</th>\n",
       "      <th>Asym_coeff</th>\n",
       "      <th>length_of_groove</th>\n",
       "      <th>class</th>\n",
       "    </tr>\n",
       "  </thead>\n",
       "  <tbody>\n",
       "    <tr>\n",
       "      <th>0</th>\n",
       "      <td>-0.746116</td>\n",
       "      <td>-0.659724</td>\n",
       "      <td>-1.022187</td>\n",
       "      <td>-0.476551</td>\n",
       "      <td>-0.906322</td>\n",
       "      <td>-0.254136</td>\n",
       "      <td>-0.348533</td>\n",
       "      <td>1.190478</td>\n",
       "    </tr>\n",
       "    <tr>\n",
       "      <th>1</th>\n",
       "      <td>0.622328</td>\n",
       "      <td>0.695258</td>\n",
       "      <td>0.184523</td>\n",
       "      <td>0.954009</td>\n",
       "      <td>0.571724</td>\n",
       "      <td>-1.096600</td>\n",
       "      <td>0.963359</td>\n",
       "      <td>-1.221200</td>\n",
       "    </tr>\n",
       "  </tbody>\n",
       "</table>\n",
       "</div>"
      ],
      "text/plain": [
       "       Area  Perimeter  Compactness  length_of_kernel  width_of_kernel  \\\n",
       "0 -0.746116  -0.659724    -1.022187         -0.476551        -0.906322   \n",
       "1  0.622328   0.695258     0.184523          0.954009         0.571724   \n",
       "\n",
       "   Asym_coeff  length_of_groove     class  \n",
       "0   -0.254136         -0.348533  1.190478  \n",
       "1   -1.096600          0.963359 -1.221200  "
      ]
     },
     "execution_count": 19,
     "metadata": {},
     "output_type": "execute_result"
    }
   ],
   "source": [
    "XtrN.head(2)"
   ]
  }
 ],
 "metadata": {
  "anaconda-cloud": {},
  "kernelspec": {
   "display_name": "Python [default]",
   "language": "python",
   "name": "python2"
  },
  "language_info": {
   "codemirror_mode": {
    "name": "ipython",
    "version": 2
   },
   "file_extension": ".py",
   "mimetype": "text/x-python",
   "name": "python",
   "nbconvert_exporter": "python",
   "pygments_lexer": "ipython2",
   "version": "2.7.12"
  }
 },
 "nbformat": 4,
 "nbformat_minor": 2
}
