{
 "cells": [
  {
   "cell_type": "markdown",
   "metadata": {
    "deletable": true,
    "editable": true
   },
   "source": [
    "## Reconocimiento de Imágenes en CIFAR10\n",
    "---"
   ]
  },
  {
   "cell_type": "markdown",
   "metadata": {
    "deletable": true,
    "editable": true
   },
   "source": [
    "### Parte B\n"
   ]
  },
  {
   "cell_type": "markdown",
   "metadata": {
    "deletable": true,
    "editable": true
   },
   "source": [
    "Construya una funcion que escale apropiadamente las imagenes antes de trabajar. Experimente solo centrando los datos y luego centrando y escalandolos como en actividades anteriores."
   ]
  },
  {
   "cell_type": "markdown",
   "metadata": {
    "deletable": true,
    "editable": true
   },
   "source": [
    "|Simbolos |  Definición | Salida\n",
    "| :-: | :-: | :-: |\n",
    "|(Xtr,Ytr)|Imagenes y etiquetas de **entrenamiento**| Dos matrices |\n",
    "|(Xt,Yt)|Imagenes y etiquetas de **pruebas**|Dos matrices |\n",
    "|(Xv,Yv)|Imagenes y etiquetas como **conjunto de validacion**, es decir para tomar decisiones de diseño acerca del modelo. |Dos matrices(1)|\n",
    "\n",
    "> (1) Este ultimo conjunto debe ser extraıdo desde el conjunto de entrenamiento original y no debe superar las 5000 imagenes."
   ]
  },
  {
   "cell_type": "code",
   "execution_count": 4,
   "metadata": {
    "collapsed": false,
    "deletable": true,
    "editable": true
   },
   "outputs": [],
   "source": [
    "import cPickle as pickle\n",
    "import numpy as np\n",
    "import os\n",
    "from scipy.misc import imread"
   ]
  },
  {
   "cell_type": "code",
   "execution_count": 5,
   "metadata": {
    "collapsed": false,
    "deletable": true,
    "editable": true
   },
   "outputs": [],
   "source": [
    "from sklearn import preprocessing\n",
    "from keras.utils import np_utils\n",
    "import pandas as pd"
   ]
  },
  {
   "cell_type": "code",
   "execution_count": 6,
   "metadata": {
    "collapsed": true,
    "deletable": true,
    "editable": true
   },
   "outputs": [],
   "source": [
    "def load_CIFAR_one(filename):\n",
    "    with open(filename, 'rb') as f:\n",
    "        datadict = pickle.load(f)\n",
    "        X = datadict['data']\n",
    "        Y = datadict['labels']\n",
    "        Y = np.array(Y)\n",
    "        return X, Y"
   ]
  },
  {
   "cell_type": "code",
   "execution_count": 7,
   "metadata": {
    "collapsed": true,
    "deletable": true,
    "editable": true
   },
   "outputs": [],
   "source": [
    "def load_CIFAR10(PATH):\n",
    "    xs = []\n",
    "    ys = []\n",
    "    for b in range(1,6):\n",
    "        f = os.path.join(PATH, 'data_batch_%d' % (b, ))\n",
    "        X, Y = load_CIFAR_one(f)\n",
    "        xs.append(X)\n",
    "        ys.append(Y)\n",
    "    Xtr = np.concatenate(xs)\n",
    "    Ytr = np.concatenate(ys)\n",
    "    del X, Y\n",
    "    Xt, Yt = load_CIFAR_one(os.path.join(PATH, 'test_batch'))\n",
    "    return Xtr, Ytr, Xt, Yt"
   ]
  },
  {
   "cell_type": "code",
   "execution_count": 8,
   "metadata": {
    "collapsed": false,
    "deletable": true,
    "editable": true
   },
   "outputs": [],
   "source": [
    "def validacion_CIFAR(_Xtr, _Ytr, _size):\n",
    "    filas = np.random.randint(0,_Xtr.shape[0],_size)\n",
    "    Xv = Xtr[filas]\n",
    "    Yv = Ytr[filas]\n",
    "    return Xv, Yv"
   ]
  },
  {
   "cell_type": "markdown",
   "metadata": {
    "deletable": true,
    "editable": true
   },
   "source": [
    "Construya una funcion que escale apropiadamente las imagenes antes de trabajar. Experimente solo centrando los datos y luego centrando y escalandolos como en actividades anteriores."
   ]
  },
  {
   "cell_type": "code",
   "execution_count": 9,
   "metadata": {
    "collapsed": true,
    "deletable": true,
    "editable": true
   },
   "outputs": [],
   "source": [
    "label_names = ['airplane', 'automobile', 'bird', 'cat', 'deer', 'dog','frog', 'horse', 'ship', 'truck']"
   ]
  },
  {
   "cell_type": "markdown",
   "metadata": {
    "deletable": true,
    "editable": true
   },
   "source": [
    "### Parametros"
   ]
  },
  {
   "cell_type": "code",
   "execution_count": 10,
   "metadata": {
    "collapsed": false,
    "deletable": true,
    "editable": true
   },
   "outputs": [
    {
     "name": "stdout",
     "output_type": "stream",
     "text": [
      "Dimenciones dataset de imagenes y etiquetas de entrenamiento son Xtr = (50000, 3072) y  Ytr =50000\n",
      "Dimenciones dataset de imagenes y etiquetas de prueba son Xtr = (10000, 3072) y  Ytr =10000\n",
      "Dimenciones dataset de imagenes y etiquetas para validación es Xv = (5000, 3072) y  Yv =5000\n"
     ]
    }
   ],
   "source": [
    "_validacion = 5000 #tamaño del conjunto de validación\n",
    "_url = '/Users/hfarias/Doctorado/1-2017/NN/Parte4/data/'\n",
    "Xtr, Ytr, Xt, Yt = load_CIFAR10(_url)\n",
    "Xv, Yv = validacion_CIFAR(Xtr, Ytr,_validacion)\n",
    "print \"Dimenciones dataset de imagenes y etiquetas de entrenamiento son Xtr = \"+str(Xtr.shape)+\" y  Ytr =\"+str(len(Ytr))\n",
    "print \"Dimenciones dataset de imagenes y etiquetas de prueba son Xtr = \"+str(Xt.shape)+\" y  Ytr =\"+str(len(Yt))\n",
    "print \"Dimenciones dataset de imagenes y etiquetas para validación es Xv = \"+str(Xv.shape)+\" y  Yv =\"+str(len(Yv))"
   ]
  },
  {
   "cell_type": "markdown",
   "metadata": {
    "deletable": true,
    "editable": true
   },
   "source": [
    "### Normalización"
   ]
  },
  {
   "cell_type": "markdown",
   "metadata": {},
   "source": [
    "El primero paso que realizaremos es convertir los identificadores que actualmente son enteros entre [0-9] en en OneHotVectores de la forma [0,0,1,0,0,0,0,0,0,0] en el caso que el label fuera 3"
   ]
  },
  {
   "cell_type": "code",
   "execution_count": 29,
   "metadata": {
    "collapsed": true
   },
   "outputs": [],
   "source": [
    "YtrN = np_utils.to_categorical(Ytr, 10)\n",
    "YtN = np_utils.to_categorical(Yt, 10)"
   ]
  },
  {
   "cell_type": "code",
   "execution_count": 34,
   "metadata": {
    "collapsed": false
   },
   "outputs": [
    {
     "name": "stdout",
     "output_type": "stream",
     "text": [
      "4\n",
      "[ 0.  0.  0.  0.  1.  0.  0.  0.  0.  0.]\n"
     ]
    }
   ],
   "source": [
    "print Ytr[3]\n",
    "print YtrN[3]"
   ]
  },
  {
   "cell_type": "markdown",
   "metadata": {
    "deletable": true,
    "editable": true
   },
   "source": [
    "Para normalizar las imagenes usaremos nuevamente StandardScaler  de sklearn, que nos permite tanto centrar(with_mean) como escalar(with_std). Debemos recordar de las actividades anteriores que los valores por de StandardScaler son: \n",
    "\n",
    "```python\n",
    "StandardScaler(copy=True, with_mean=True, with_std=True)\n",
    "```\n",
    "Por lo que debemos considerar esto al momento de implementar nuestra función de normalización."
   ]
  },
  {
   "cell_type": "code",
   "execution_count": 11,
   "metadata": {
    "collapsed": false,
    "deletable": true,
    "editable": true
   },
   "outputs": [
    {
     "data": {
      "text/plain": [
       "count    50000.000000\n",
       "mean       131.050440\n",
       "std         72.240546\n",
       "min          0.000000\n",
       "25%         73.000000\n",
       "50%        129.000000\n",
       "75%        188.000000\n",
       "max        255.000000\n",
       "Name: 2, dtype: float64"
      ]
     },
     "execution_count": 11,
     "metadata": {},
     "output_type": "execute_result"
    }
   ],
   "source": [
    "df_Xtr = pd.DataFrame(Xtr)\n",
    "df_Xtr[2].describe()"
   ]
  },
  {
   "cell_type": "code",
   "execution_count": 12,
   "metadata": {
    "collapsed": true,
    "deletable": true,
    "editable": true
   },
   "outputs": [],
   "source": [
    "def normalizar(_Xtr, _Xt,_centrando,_escalado):\n",
    "    print \"_centrando =\"+str(_centrando)+\"y _escalado=\"+str(_escalado)\n",
    "    scaler = preprocessing.StandardScaler(with_mean=_centrando, with_std=_centrando).fit(_Xtr)\n",
    "    Xtr = scaler.transform(_Xtr)\n",
    "    Xt  = scaler.transform(_Xt)\n",
    "    return Xtr,Xt"
   ]
  },
  {
   "cell_type": "markdown",
   "metadata": {
    "deletable": true,
    "editable": true
   },
   "source": [
    "Caso 1,solo centrando los datos:\n",
    "```python\n",
    "StandardScaler(with_mean=True, with_std=False)\n",
    "```"
   ]
  },
  {
   "cell_type": "code",
   "execution_count": 13,
   "metadata": {
    "collapsed": false,
    "deletable": true,
    "editable": true
   },
   "outputs": [
    {
     "name": "stdout",
     "output_type": "stream",
     "text": [
      "Dimenciones dataset de imagenes y etiquetas de entrenamiento son Xtr = (50000, 3072) y  Ytr =50000\n",
      "Dimenciones dataset de imagenes y etiquetas de prueba son Xtr = (10000, 3072) y  Ytr =10000\n"
     ]
    }
   ],
   "source": [
    "Xtr, Ytr, Xt, Yt = load_CIFAR10(_url)\n",
    "print \"Dimenciones dataset de imagenes y etiquetas de entrenamiento son Xtr = \"+str(Xtr.shape)+\" y  Ytr =\"+str(len(Ytr))\n",
    "print \"Dimenciones dataset de imagenes y etiquetas de prueba son Xtr = \"+str(Xt.shape)+\" y  Ytr =\"+str(len(Yt))"
   ]
  },
  {
   "cell_type": "code",
   "execution_count": 14,
   "metadata": {
    "collapsed": true,
    "deletable": true,
    "editable": true
   },
   "outputs": [],
   "source": [
    "_centrando = True\n",
    "_escalado  = False"
   ]
  },
  {
   "cell_type": "code",
   "execution_count": 15,
   "metadata": {
    "collapsed": false,
    "deletable": true,
    "editable": true
   },
   "outputs": [
    {
     "name": "stdout",
     "output_type": "stream",
     "text": [
      "_centrando =Truey _escalado=False\n"
     ]
    },
    {
     "name": "stderr",
     "output_type": "stream",
     "text": [
      "/Users/hfarias/anaconda2/lib/python2.7/site-packages/sklearn/utils/validation.py:429: DataConversionWarning: Data with input dtype uint8 was converted to float64 by StandardScaler.\n",
      "  warnings.warn(msg, _DataConversionWarning)\n"
     ]
    },
    {
     "data": {
      "text/plain": [
       "count    5.000000e+04\n",
       "mean    -1.221379e-16\n",
       "std      1.000010e+00\n",
       "min     -1.814102e+00\n",
       "25%     -8.035795e-01\n",
       "50%     -2.838379e-02\n",
       "75%      7.883402e-01\n",
       "max      1.715807e+00\n",
       "Name: 2, dtype: float64"
      ]
     },
     "execution_count": 15,
     "metadata": {},
     "output_type": "execute_result"
    }
   ],
   "source": [
    "Xtr_C, Xt_C = normalizar(Xtr, Xt,_centrando,_escalado)\n",
    "df_Xtr_C = pd.DataFrame(Xtr_C)\n",
    "df_Xtr_C[2].describe()"
   ]
  },
  {
   "cell_type": "markdown",
   "metadata": {
    "deletable": true,
    "editable": true
   },
   "source": [
    "Caso 2, centrando y escalandando los datos:\n",
    "```python\n",
    "StandardScaler(with_mean=True, with_std=True)\n",
    "```"
   ]
  },
  {
   "cell_type": "code",
   "execution_count": 16,
   "metadata": {
    "collapsed": false,
    "deletable": true,
    "editable": true
   },
   "outputs": [],
   "source": [
    "del Xtr, Ytr, Xt, Yt"
   ]
  },
  {
   "cell_type": "code",
   "execution_count": 17,
   "metadata": {
    "collapsed": false,
    "deletable": true,
    "editable": true
   },
   "outputs": [
    {
     "name": "stdout",
     "output_type": "stream",
     "text": [
      "Dimenciones dataset de imagenes y etiquetas de entrenamiento son Xtr = (50000, 3072) y  Ytr =50000\n",
      "Dimenciones dataset de imagenes y etiquetas de prueba son Xtr = (10000, 3072) y  Ytr =10000\n"
     ]
    }
   ],
   "source": [
    "Xtr, Ytr, Xt, Yt = load_CIFAR10(_url)\n",
    "print \"Dimenciones dataset de imagenes y etiquetas de entrenamiento son Xtr = \"+str(Xtr.shape)+\" y  Ytr =\"+str(len(Ytr))\n",
    "print \"Dimenciones dataset de imagenes y etiquetas de prueba son Xtr = \"+str(Xt.shape)+\" y  Ytr =\"+str(len(Yt))"
   ]
  },
  {
   "cell_type": "code",
   "execution_count": 18,
   "metadata": {
    "collapsed": true,
    "deletable": true,
    "editable": true
   },
   "outputs": [],
   "source": [
    "_centrando = True\n",
    "_escalado  = True"
   ]
  },
  {
   "cell_type": "code",
   "execution_count": 19,
   "metadata": {
    "collapsed": false,
    "deletable": true,
    "editable": true
   },
   "outputs": [
    {
     "name": "stdout",
     "output_type": "stream",
     "text": [
      "_centrando =Truey _escalado=True\n"
     ]
    }
   ],
   "source": [
    "Xtr_C_E, Xt_C_E = normalizar(Xtr, Xt,_centrando,_escalado)"
   ]
  },
  {
   "cell_type": "code",
   "execution_count": 20,
   "metadata": {
    "collapsed": false,
    "deletable": true,
    "editable": true
   },
   "outputs": [],
   "source": [
    "df_Xtr_C_E = pd.DataFrame(Xtr_C_E)"
   ]
  },
  {
   "cell_type": "code",
   "execution_count": 21,
   "metadata": {
    "collapsed": false,
    "deletable": true,
    "editable": true
   },
   "outputs": [
    {
     "data": {
      "text/plain": [
       "count    5.000000e+04\n",
       "mean    -1.221379e-16\n",
       "std      1.000010e+00\n",
       "min     -1.814102e+00\n",
       "25%     -8.035795e-01\n",
       "50%     -2.838379e-02\n",
       "75%      7.883402e-01\n",
       "max      1.715807e+00\n",
       "Name: 2, dtype: float64"
      ]
     },
     "execution_count": 21,
     "metadata": {},
     "output_type": "execute_result"
    }
   ],
   "source": [
    "df_Xtr_C_E[2].describe()"
   ]
  },
  {
   "cell_type": "code",
   "execution_count": 24,
   "metadata": {
    "collapsed": false,
    "deletable": true,
    "editable": true
   },
   "outputs": [],
   "source": [
    "Y_train = np_utils.to_categorical(Ytr, 10)\n",
    "Y_test = np_utils.to_categorical(Yt, 10)"
   ]
  },
  {
   "cell_type": "code",
   "execution_count": 26,
   "metadata": {
    "collapsed": false
   },
   "outputs": [
    {
     "data": {
      "text/plain": [
       "array([ 0.,  0.,  0.,  0.,  0.,  0.,  0.,  0.,  0.,  1.])"
      ]
     },
     "execution_count": 26,
     "metadata": {},
     "output_type": "execute_result"
    }
   ],
   "source": [
    "Y_train[1]"
   ]
  },
  {
   "cell_type": "code",
   "execution_count": 28,
   "metadata": {
    "collapsed": false
   },
   "outputs": [
    {
     "data": {
      "text/plain": [
       "9"
      ]
     },
     "execution_count": 28,
     "metadata": {},
     "output_type": "execute_result"
    }
   ],
   "source": [
    "Ytr[1]"
   ]
  },
  {
   "cell_type": "code",
   "execution_count": null,
   "metadata": {
    "collapsed": true
   },
   "outputs": [],
   "source": []
  }
 ],
 "metadata": {
  "anaconda-cloud": {},
  "kernelspec": {
   "display_name": "Python [default]",
   "language": "python",
   "name": "python2"
  },
  "language_info": {
   "codemirror_mode": {
    "name": "ipython",
    "version": 2
   },
   "file_extension": ".py",
   "mimetype": "text/x-python",
   "name": "python",
   "nbconvert_exporter": "python",
   "pygments_lexer": "ipython2",
   "version": "2.7.12"
  }
 },
 "nbformat": 4,
 "nbformat_minor": 2
}
